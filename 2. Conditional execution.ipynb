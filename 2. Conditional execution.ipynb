{
 "cells": [
  {
   "cell_type": "markdown",
   "metadata": {},
   "source": [
    "**Exercise 2.1**\n",
    "\n",
    "Boolean expressions are part of boolean algebra, which is named after George Boole. Take a moment to read about him:\n",
    "https://en.wikipedia.org/wiki/George_Boole"
   ]
  },
  {
   "cell_type": "markdown",
   "metadata": {},
   "source": [
    "Here are the key points about George Boole from the page:\n",
    "\n",
    "- **Mathematical Contributions**: Boole is best known for his work in **Boolean algebra** and **symbolic logic**, which laid the foundation for modern computer science and digital circuit design.\n",
    "- **Career**: He was the first professor of mathematics at **Queen's College, Cork** and published around 50 articles and several books, including \"The Laws of Thought.\"\n",
    "- **Personal Life**: Boole was largely self-taught, supported his family from a young age, and was involved in various social causes.\n",
    "- **Legacy**: His work influenced many scholars and had practical applications in the development of electronic digital computers. University College Cork celebrated his 200th birthday in 2015."
   ]
  },
  {
   "cell_type": "markdown",
   "metadata": {},
   "source": [
    "**Exercise 2.2**\n",
    "\n",
    "Write a couple of boolean expressions and check what it returns:"
   ]
  },
  {
   "cell_type": "code",
   "execution_count": 1,
   "metadata": {},
   "outputs": [
    {
     "data": {
      "text/plain": [
       "True"
      ]
     },
     "execution_count": 1,
     "metadata": {},
     "output_type": "execute_result"
    }
   ],
   "source": [
    "16 >= 7"
   ]
  },
  {
   "cell_type": "code",
   "execution_count": 2,
   "metadata": {},
   "outputs": [
    {
     "data": {
      "text/plain": [
       "True"
      ]
     },
     "execution_count": 2,
     "metadata": {},
     "output_type": "execute_result"
    }
   ],
   "source": [
    "45 <= 78"
   ]
  },
  {
   "cell_type": "code",
   "execution_count": 4,
   "metadata": {},
   "outputs": [
    {
     "data": {
      "text/plain": [
       "False"
      ]
     },
     "execution_count": 4,
     "metadata": {},
     "output_type": "execute_result"
    }
   ],
   "source": [
    "6 == 7"
   ]
  },
  {
   "cell_type": "code",
   "execution_count": 7,
   "metadata": {},
   "outputs": [
    {
     "data": {
      "text/plain": [
       "True"
      ]
     },
     "execution_count": 7,
     "metadata": {},
     "output_type": "execute_result"
    }
   ],
   "source": [
    "6 != 0"
   ]
  },
  {
   "cell_type": "markdown",
   "metadata": {},
   "source": [
    "**Exercise 2.4**\n",
    "\n",
    "Write an if statement that prints \"steven\" if `num` is even:"
   ]
  },
  {
   "cell_type": "code",
   "execution_count": 10,
   "metadata": {},
   "outputs": [
    {
     "name": "stdout",
     "output_type": "stream",
     "text": [
      "steven\n"
     ]
    }
   ],
   "source": [
    "num = 24\n",
    "if num % 2 == 0:\n",
    "    print('steven')"
   ]
  },
  {
   "cell_type": "markdown",
   "metadata": {},
   "source": [
    "**Exercise 2.6**\n",
    "\n",
    "Write a set of conditional expression to check if an integer is positive, negative or zero. Test it with 1, 0, -1 to verify it works."
   ]
  },
  {
   "cell_type": "code",
   "execution_count": 11,
   "metadata": {},
   "outputs": [
    {
     "name": "stdout",
     "output_type": "stream",
     "text": [
      "1 is positive\n"
     ]
    }
   ],
   "source": [
    "num = 1\n",
    "\n",
    "# Check if the number is pos, negat, or 0\n",
    "if num > 0:\n",
    "    print(f\"{num} is positive\")\n",
    "elif num < 0:\n",
    "    print(f\"{num} is negative\")\n",
    "else:\n",
    "    print(f\"{num} is 0\")\n"
   ]
  },
  {
   "cell_type": "markdown",
   "metadata": {},
   "source": [
    "**Exercise 2.7**\n",
    "\n",
    "Write 3 nested if statements that prints 'Yes!', if a number is perfectly divisible by 2 and 3 and 5."
   ]
  },
  {
   "cell_type": "code",
   "execution_count": 12,
   "metadata": {},
   "outputs": [
    {
     "name": "stdout",
     "output_type": "stream",
     "text": [
      "Yes!\n"
     ]
    }
   ],
   "source": [
    "num = 30  \n",
    "\n",
    "if num % 2 == 0:\n",
    "    if num % 3 == 0:\n",
    "        if num % 5 == 0:\n",
    "            print(\"Yes!\")\n"
   ]
  },
  {
   "cell_type": "markdown",
   "metadata": {},
   "source": [
    "**Exercise 2.9**\n",
    "\n",
    "In mathematics, division by zero is undefined. Calculate the ratio of `num1` and `num2` and use try/except to print \"Zero division error\" when `num2` is zero."
   ]
  },
  {
   "cell_type": "code",
   "execution_count": 16,
   "metadata": {},
   "outputs": [
    {
     "name": "stdout",
     "output_type": "stream",
     "text": [
      "Zero division error\n"
     ]
    }
   ],
   "source": [
    "num1 = 5\n",
    "num2 = 0\n",
    "\n",
    "try:\n",
    "    ratio = num1 / num2\n",
    "    print(f\"The ratio is {ratio}\")\n",
    "except ZeroDivisionError:\n",
    "    print(\"Zero division error\")\n"
   ]
  },
  {
   "cell_type": "markdown",
   "metadata": {},
   "source": [
    "**Exercise 2.10**\n",
    "\n",
    "Calculate the weekly pay of an employee, given hours and rate. Give the employee 1.5 times the hourly rate for hours worked above 40 hours.\n",
    "\n",
    "For example, 45 hours of work with rate 20 euros/h, expected pay is 950 euros. For 30 hours of work with the same rate, expected pay is 600 euros."
   ]
  },
  {
   "cell_type": "code",
   "execution_count": 17,
   "metadata": {},
   "outputs": [
    {
     "name": "stdout",
     "output_type": "stream",
     "text": [
      "210.0\n",
      "600\n"
     ]
    }
   ],
   "source": [
    "def calculate_weekly_pay(hours, rate):\n",
    "    \n",
    "    Hours = 40\n",
    "    Rate = 1.5\n",
    "    \n",
    "    if hours > Hours:\n",
    "        regular_pay = Hours * Rate\n",
    "        overtime_pay = (hours - Hours) * rate * Rate\n",
    "        total_pay = regular_pay + overtime_pay\n",
    "    else:\n",
    "        total_pay = hours * rate\n",
    "    \n",
    "    return total_pay\n",
    "\n",
    "# Test cases\n",
    "print(calculate_weekly_pay(45, 20))  # Expected output: 950\n",
    "print(calculate_weekly_pay(30, 20))  # Expected output: 600\n"
   ]
  },
  {
   "cell_type": "markdown",
   "metadata": {},
   "source": [
    "**Exercise 2.11**\n",
    "\n",
    "Write a program to prompt for a score between 0.0 and 1.0. If the score is out of range, print an error message. If the score is between 0.0 and 1.0, print a grade using the following table:\n",
    "\n",
    "|Score|Grade|\n",
    "|--|--|\n",
    "|>=0.9|A|\n",
    "|>=0.8|B|\n",
    "|>=0.7|C|\n",
    "|>=0.6|D|\n",
    "|<0.6|F|\n",
    "\n",
    "Test a few values to make sure your program runs correctly."
   ]
  },
  {
   "cell_type": "code",
   "execution_count": 18,
   "metadata": {},
   "outputs": [
    {
     "name": "stdout",
     "output_type": "stream",
     "text": [
      "Grade: B\n"
     ]
    }
   ],
   "source": [
    "score = 0.85\n",
    "if score < 0.0 or score > 1.0:\n",
    "    print(\"Error: Score out of range\")\n",
    "else:\n",
    "    # Determine the grade based on the score\n",
    "    if score >= 0.9:\n",
    "        print(\"Grade: A\")\n",
    "    elif score >= 0.8:\n",
    "        print(\"Grade: B\")\n",
    "    elif score >= 0.7:\n",
    "        print(\"Grade: C\")\n",
    "    elif score >= 0.6:\n",
    "        print(\"Grade: D\")\n",
    "    else:\n",
    "        print(\"Grade: F\")\n"
   ]
  }
 ],
 "metadata": {
  "kernelspec": {
   "display_name": "Python 3",
   "language": "python",
   "name": "python3"
  },
  "language_info": {
   "codemirror_mode": {
    "name": "ipython",
    "version": 3
   },
   "file_extension": ".py",
   "mimetype": "text/x-python",
   "name": "python",
   "nbconvert_exporter": "python",
   "pygments_lexer": "ipython3",
   "version": "3.12.5"
  }
 },
 "nbformat": 4,
 "nbformat_minor": 2
}
