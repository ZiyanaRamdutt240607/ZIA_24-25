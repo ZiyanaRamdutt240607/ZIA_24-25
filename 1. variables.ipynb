{
 "cells": [
  {
   "cell_type": "markdown",
   "metadata": {},
   "source": [
    "**Exercise 1.1**\n",
    "\n",
    "Print values of the type `int`, `str`, and a `float`."
   ]
  },
  {
   "cell_type": "code",
   "execution_count": 1,
   "metadata": {},
   "outputs": [
    {
     "name": "stdout",
     "output_type": "stream",
     "text": [
      "5\n"
     ]
    }
   ],
   "source": [
    "# Print an int\n",
    "print('5')"
   ]
  },
  {
   "cell_type": "code",
   "execution_count": 2,
   "metadata": {},
   "outputs": [
    {
     "name": "stdout",
     "output_type": "stream",
     "text": [
      "Hello, World!\n"
     ]
    }
   ],
   "source": [
    "# print a str\n",
    "print(\"Hello, World!\")"
   ]
  },
  {
   "cell_type": "code",
   "execution_count": 3,
   "metadata": {},
   "outputs": [
    {
     "name": "stdout",
     "output_type": "stream",
     "text": [
      "2.5\n"
     ]
    }
   ],
   "source": [
    "# print a float \n",
    "print('2.5')"
   ]
  },
  {
   "cell_type": "markdown",
   "metadata": {},
   "source": [
    "**Exercise 1.2**\n",
    "\n",
    "Assign a value to a variable."
   ]
  },
  {
   "cell_type": "code",
   "execution_count": 7,
   "metadata": {},
   "outputs": [
    {
     "name": "stdout",
     "output_type": "stream",
     "text": [
      "Ziyana Ramdutt\n"
     ]
    }
   ],
   "source": [
    "Name = 'Ziyana Ramdutt'\n",
    "print(Name)"
   ]
  },
  {
   "cell_type": "markdown",
   "metadata": {},
   "source": [
    "**Exercise 1.3**\n",
    "\n",
    "Calculate how long it takes sunlight to reach the Earth, in minutes. The expected answer is 8.3 minutes or 8 minutes 20 seconds.\n"
   ]
  },
  {
   "cell_type": "code",
   "execution_count": 14,
   "metadata": {},
   "outputs": [
    {
     "name": "stdout",
     "output_type": "stream",
     "text": [
      "8.3 minutes\n"
     ]
    }
   ],
   "source": [
    "d = 1.5e8 # Earth - Sun distance in km\n",
    "v = 3e5 # speed of light in km/s\n",
    "\n",
    "# time = distance/ speed \n",
    "\n",
    "t_m = d / v #Time in min\n",
    "t_s = t_m / 60 #Time in seconds\n",
    "t_s_rounded = round(t_s, 1) # one decemal point\n",
    "\n",
    "print(t_s_rounded, 'minutes') \n",
    "\n"
   ]
  },
  {
   "cell_type": "markdown",
   "metadata": {},
   "source": [
    "**Exercise 1.4**\n",
    "\n",
    "What is the result of the following operation:\n",
    "\n",
    "$10 - 2 * 3$\n",
    "\n",
    "Do a [mental calculation](https://en.wikipedia.org/wiki/Mental_calculation) first and then check your answer with Python."
   ]
  },
  {
   "cell_type": "code",
   "execution_count": 15,
   "metadata": {},
   "outputs": [
    {
     "name": "stdout",
     "output_type": "stream",
     "text": [
      "4\n"
     ]
    }
   ],
   "source": [
    "awnser = 10 - 2 * 3\n",
    "print(awnser)"
   ]
  },
  {
   "cell_type": "markdown",
   "metadata": {},
   "source": [
    "**Exercise 1.5**\n",
    "\n",
    "Is 1452 exactly divisible by 11?\n",
    "\n",
    "Check the answer using the modulus operator."
   ]
  },
  {
   "cell_type": "code",
   "execution_count": 19,
   "metadata": {},
   "outputs": [
    {
     "name": "stdout",
     "output_type": "stream",
     "text": [
      "True\n"
     ]
    }
   ],
   "source": [
    "\n",
    "is_divisible = 1452 % 11 == 0\n",
    "\n",
    "print(is_divisible)\n"
   ]
  },
  {
   "cell_type": "markdown",
   "metadata": {},
   "source": [
    "**Exercise 1.6**\n",
    "\n",
    "Run the code below, and copy paste the error message you will get **\"NameError: name 'principle' is not defined\"**, and do a Google search.\n",
    "\n",
    "Highly probably, you will see a stackoverflow page in the top results. Click on it, and read the question, comments and answers. Stackoverflow is one of the most popular Q&A websites for programmers. Probably, you won't get an exact match for your question but it will be similar enough to help you solve the error you got."
   ]
  },
  {
   "cell_type": "code",
   "execution_count": 20,
   "metadata": {},
   "outputs": [
    {
     "name": "stdout",
     "output_type": "stream",
     "text": [
      "1310.72\n"
     ]
    }
   ],
   "source": [
    "principal = 327.68\n",
    "rate = 4 \n",
    "interest = principal * rate\n",
    "print(interest)"
   ]
  },
  {
   "cell_type": "markdown",
   "metadata": {},
   "source": [
    "**De bugged**\n",
    "\n",
    "principal was missed spelled, and there was bo value for rate. also there where no further comands, so i added print."
   ]
  },
  {
   "cell_type": "markdown",
   "metadata": {},
   "source": [
    "**Exercise 1.7**\n",
    "\n",
    "Write a program to calculate the area of a circle with a radius of 2 cm. Assume π = 3.14. Area of a circle is given by the following equation:\n",
    "\n",
    "$$ area = \\pi \\times radius^2 $$\n",
    "\n",
    "The expected answer is `12.56`."
   ]
  },
  {
   "cell_type": "code",
   "execution_count": 21,
   "metadata": {},
   "outputs": [
    {
     "name": "stdout",
     "output_type": "stream",
     "text": [
      "12.56\n"
     ]
    }
   ],
   "source": [
    "pi = 3.14\n",
    "radius = 2\n",
    "\n",
    "area = pi * 2**2\n",
    "\n",
    "print(area)"
   ]
  },
  {
   "cell_type": "markdown",
   "metadata": {},
   "source": [
    "**Exercise 1.8**\n",
    "\n",
    "Calculate the number of seconds in a year. Assume a year has 365 days. The expected answer is between 31 and 32 million."
   ]
  },
  {
   "cell_type": "code",
   "execution_count": 22,
   "metadata": {},
   "outputs": [
    {
     "name": "stdout",
     "output_type": "stream",
     "text": [
      "31536000\n"
     ]
    }
   ],
   "source": [
    "sec_per_year = 60 * 60 * 24 * 365 # Calculate the number of seconds in a year\n",
    "\n",
    "print(sec_per_year)\n"
   ]
  },
  {
   "cell_type": "markdown",
   "metadata": {},
   "source": [
    "**Exercise 1.9**\n",
    "\n",
    "Ask user input for an integer. Print `0` if the integer is even and print `1` if the integer is odd."
   ]
  },
  {
   "cell_type": "code",
   "execution_count": 26,
   "metadata": {},
   "outputs": [
    {
     "name": "stdout",
     "output_type": "stream",
     "text": [
      "0\n"
     ]
    }
   ],
   "source": [
    "number = int(input())\n",
    "\n",
    "print(0 if number % 2 == 0 else 1)\n"
   ]
  }
 ],
 "metadata": {
  "kernelspec": {
   "display_name": "Python 3",
   "language": "python",
   "name": "python3"
  },
  "language_info": {
   "codemirror_mode": {
    "name": "ipython",
    "version": 3
   },
   "file_extension": ".py",
   "mimetype": "text/x-python",
   "name": "python",
   "nbconvert_exporter": "python",
   "pygments_lexer": "ipython3",
   "version": "3.12.5"
  }
 },
 "nbformat": 4,
 "nbformat_minor": 2
}
